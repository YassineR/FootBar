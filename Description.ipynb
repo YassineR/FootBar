{
 "cells": [
  {
   "cell_type": "markdown",
   "id": "6a82e9b1",
   "metadata": {},
   "source": [
    "# Opportunité de Démontrer Mes Compétences :\n",
    "\n",
    "Ce petit projet s'est avéré extrêmement intéressant et plaisant, m'offrant une opportunité précieuse d'explorer des techniques novatrices en intelligence artificielle. Tout retour, même succinct, sur le travail accompli serait grandement apprécié.\n",
    "\n",
    "# Sommaire\n",
    "\n",
    "1. [Contexte et Problématique](#contexte-et-problématique)\n",
    "   - [Aspects Temporels](#aspects-temporels)\n",
    "   - [Paires Action-Norme Cohérentes](#paires-action-norme-cohérentes)\n",
    "   - [Construction de Matchs Cohérents](#construction-de-matchs-cohérents)\n",
    "2. [Solutions Techniques](#solutions-techniques)\n",
    "   - [Dynamique Temporelle](#dynamique-temporelle)\n",
    "   - [Création de Paires Cohérentes](#création-de-paires-cohérentes)\n",
    "   - [Construction de Matchs Significatifs](#construction-de-matchs-significatifs)\n",
    "   - [Détermination du Style de Jeu](#détermination-du-style-de-jeu)\n",
    "3. [Processus d'Assemblage](#processus-dassemblage)\n",
    "4. [Limitations](#limitations)\n",
    "5. [Étapes Futures](#étapes-futures)\n",
    "\n",
    "\n",
    "# Contexte et Problématique :\n",
    "\n",
    "Je dispose de données représentant deux matchs de football. Pour chaque match, j'ai des fichiers JSON suivant le format \"action : **A**, norme : [..., **k**, ...]\". Ici, **A** représente les actions des joueurs et **k** les valeurs d'accélération capturées par des capteurs montés au niveau des genoux.\n",
    "\n",
    "Le problème peut être divisé en trois sous-questions :\n",
    "\n",
    "- **Aspects Temporels : ** Comment gérer la dynamique temporelle des matchs de football ?\n",
    "- **Paires Action-Norme Cohérentes :** Comment créer des paires action-norme cohérentes où les valeurs d'accélération représentent avec précision les actions des joueurs ?\n",
    "- **Construction de Matchs Cohérents :** Comment assembler ces paires en matchs de football significatifs et cohérents ? De plus, il y a une question bonus : comment déterminer le style de jeu (offensif, défensif ou équilibré) ?\n",
    "\n",
    "**Solutions Techniques :**\n",
    "\n",
    "1. **Dynamique Temporelle :** Étant donné que les données d'accéléromètre sont essentiellement des séries temporelles, j'ai exploré deux solutions spécifiques : TimeGAN et DoppelGANger. Ce sont des modèles d'IA générative conçus pour reproduire des données temporelles basées sur des ensembles de données existants. Après avoir examiné des articles de recherche, j'ai opté pour DoppelGANger en raison de sa performance supérieure.\n",
    "Cette génération de time series est contrôlable : en choisissant le nombre de séries à générer, nous pouvons facilement choisir la durée du match.\n",
    "\n",
    "2. **Création de Paires Cohérentes :** DoppelGANger abordait théoriquement la génération de paires action-norme. Cependant, l'implémentation pratique a révélé des résultats insatisfaisants en raison du petit jeu de données (seulement deux matchs). La performance de ce modèle s'améliore avec un jeu de données plus important, qui faisait défaut dans notre cas.\n",
    "Une tentative a été de faire de la data augmentation, en créant des translations vertical (pour garder la forme) aléatoire de nos times séries. \n",
    "\n",
    "3. **Construction de Matchs Significatifs :** Pour garantir la génération cohérente de matchs, j'ai envisagé deux approches. Premièrement, en utilisant le hasard tout en respectant une distribution spécifique des actions. Cependant, cette approche manquait de fiabilité. Deuxièmement, j'ai exploré l'utilisation de réseaux neuronaux récurrents (RNN) ou de réseaux LSTM (mémoire à court terme à longue) qui excellent dans la génération de séquences, les rendant adaptés à la création de matchs cohérents et significatifs. Malheureusement, après quelques tests, je me suis rapidement aperçu que l'entrainement n'étais pas suffisant. Je me suis donc rabattu sur mon idée d'aléatoire suivant une distribution.\n",
    "\n",
    "4. **Détermination du Style de Jeu :** Il existe une méthode potentielle pour influencer les sorties LSTM avec des entrées spécifiques, bien que cela reste non testé en raison des limitations rencontrées lors de l'implémentation. Cependant, en utilisant et modifiant la distribution des actions, il est possible d'influer sur le style du match. \n",
    "\n",
    "**Processus d'Assemblage :**\n",
    "\n",
    "Dans un scénario de production, le processus impliquerait la génération des actions de match en utilisant LSTM pour déterminer le style de match. Ensuite, DoppelGANger générerait les normes d'accélération associées.\n",
    "\n",
    "**Limitations :**\n",
    "- L'implémentation de DoppelGANger ne permet pas de choisir l'étiquette de sortie, limitant ainsi la génération directe de paires action-norme. Pour contourner cela, j'ai choisi de créer un \"pool\" de paires assez large, dans lequel je vais piocher afin de construire mon match, en me basant sur la distribution indiquée. \n",
    "\n",
    "- La librairie gère les entrées avec des longueurs différentes, mais ne permet **pas encore** de générer des sorties différentes. Ceci rend les résultats assez linéaires, et non réaliste.\n",
    "\n",
    "- Le nombre de données étant assez faible, et malgré la data augmentation réalisée, les résultats de DoppelGANger sont insuffisants. Un travail sur les (hyper)paramètres pourraient être réalisé pour améliorer nos résultats.\n",
    "\n",
    "\n",
    "**Étapes Futures :**\n",
    "- Rechercher des solutions de contournement ou des méthodes alternatives pour résoudre la limitation de l'étiquette de DoppelGANger.\n",
    "- Explorer des techniques avancées ou des méthodes d'ensemble pour améliorer la précision et la fiabilité des matchs générés.\n",
    "- Développer des critères d'évaluation pour évaluer la qualité des données de match générées.\n",
    "- Il serait intéressant d'avoir d'autres données, comme par exemple le rôle du joueur dans l'équipe, son genre, poids, taille ou idéalement son style de jeu (plutôt karting ou formule1 ? Cyborg ou tortue ninja ?)\n",
    "- Optimisation des modèles (cross validation / hyperparamètres)\n",
    "- Réaliser du post-processing afin de corriger certaines valeurs (valeurs négatives ou extrêmes, par exemple)\n"
   ]
  },
  {
   "cell_type": "code",
   "execution_count": null,
   "id": "f426317c",
   "metadata": {},
   "outputs": [],
   "source": []
  }
 ],
 "metadata": {
  "kernelspec": {
   "display_name": "Python 3 (ipykernel)",
   "language": "python",
   "name": "python3"
  },
  "language_info": {
   "codemirror_mode": {
    "name": "ipython",
    "version": 3
   },
   "file_extension": ".py",
   "mimetype": "text/x-python",
   "name": "python",
   "nbconvert_exporter": "python",
   "pygments_lexer": "ipython3",
   "version": "3.9.0"
  },
  "varInspector": {
   "cols": {
    "lenName": 16,
    "lenType": 16,
    "lenVar": 40
   },
   "kernels_config": {
    "python": {
     "delete_cmd_postfix": "",
     "delete_cmd_prefix": "del ",
     "library": "var_list.py",
     "varRefreshCmd": "print(var_dic_list())"
    },
    "r": {
     "delete_cmd_postfix": ") ",
     "delete_cmd_prefix": "rm(",
     "library": "var_list.r",
     "varRefreshCmd": "cat(var_dic_list()) "
    }
   },
   "types_to_exclude": [
    "module",
    "function",
    "builtin_function_or_method",
    "instance",
    "_Feature"
   ],
   "window_display": false
  }
 },
 "nbformat": 4,
 "nbformat_minor": 5
}
